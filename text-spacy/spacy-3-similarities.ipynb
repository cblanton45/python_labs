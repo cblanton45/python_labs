{
 "cells": [
  {
   "cell_type": "markdown",
   "metadata": {},
   "source": [
    "# Lab : Spacy - Similarities\n",
    "Find out similar words!\n",
    "\n",
    "### Runtime\n",
    "10-15 minutes"
   ]
  },
  {
   "cell_type": "markdown",
   "metadata": {},
   "source": [
    "## Step 1 - Import"
   ]
  },
  {
   "cell_type": "code",
   "execution_count": null,
   "metadata": {},
   "outputs": [],
   "source": [
    "%%time\n",
    "import spacy\n",
    "print (\"spacy version \", spacy.__version__)\n"
   ]
  },
  {
   "cell_type": "markdown",
   "metadata": {},
   "source": [
    "## Step 2 - Download Model\n",
    "we can experiment with small/medium/large models.\n",
    "\n",
    "Beware, large model can take a long time to download and load!"
   ]
  },
  {
   "cell_type": "code",
   "execution_count": null,
   "metadata": {},
   "outputs": [],
   "source": [
    "## Download the models\n",
    "\n",
    "spacy_model = 'en_core_web_sm'\n",
    "\n",
    "# medium\n",
    "# spacy_model = 'en_core_web_md'\n",
    "\n",
    "# large\n",
    "# spacy_model = 'en_core_web_lg'\n",
    "\n",
    "## small\n",
    "! python -m spacy download $spacy_model\n"
   ]
  },
  {
   "cell_type": "code",
   "execution_count": null,
   "metadata": {},
   "outputs": [],
   "source": [
    "%%time\n",
    "## Load the right model\n",
    "nlp = spacy.load(spacy_model)"
   ]
  },
  {
   "cell_type": "markdown",
   "metadata": {},
   "source": [
    "## Step 3 - Find Similarities in words"
   ]
  },
  {
   "cell_type": "code",
   "execution_count": null,
   "metadata": {},
   "outputs": [],
   "source": [
    "text = 'city street car sky cloud burger fries'\n",
    "\n",
    "doc = nlp(text)\n",
    "\n",
    "for t1 in doc:\n",
    "  for t2 in doc:\n",
    "    print(t1.text, t2.text, t1.similarity(t2))"
   ]
  },
  {
   "cell_type": "code",
   "execution_count": null,
   "metadata": {},
   "outputs": [],
   "source": [
    "## Pretty Print\n",
    "import pandas as pd\n",
    "rows  = list(doc)\n",
    "df = pd.DataFrame (index=rows)\n",
    "\n",
    "\n",
    "for t1 in doc:\n",
    "  for t2 in doc:\n",
    "    #print(t1.text, t2.text, t1.similarity(t2))\n",
    "    df.at[t1, t2] = t1.similarity(t2)\n",
    "\n",
    "print(df)    \n",
    "df"
   ]
  },
  {
   "cell_type": "markdown",
   "metadata": {},
   "source": [
    "## Step 4 - Experiment\n",
    "For the first run we used the small model 'en_core_web_sm'.\n",
    "\n",
    "Make note of the similarity matrix (copy the output and save it in another txt file)\n",
    "\n",
    "IN Step-2 download a medium model.  \n",
    "Uncomment the following line\n",
    "```python\n",
    "# spacy_model = 'en_core_web_md'\n",
    "```\n",
    "And run the notebook again.  \n",
    "Do the similarities improve with larger model?"
   ]
  },
  {
   "cell_type": "code",
   "execution_count": null,
   "metadata": {},
   "outputs": [],
   "source": []
  }
 ],
 "metadata": {
  "kernelspec": {
   "display_name": "Python 3",
   "language": "python",
   "name": "python3"
  },
  "language_info": {
   "codemirror_mode": {
    "name": "ipython",
    "version": 3
   },
   "file_extension": ".py",
   "mimetype": "text/x-python",
   "name": "python",
   "nbconvert_exporter": "python",
   "pygments_lexer": "ipython3",
   "version": "3.7.3"
  }
 },
 "nbformat": 4,
 "nbformat_minor": 4
}
