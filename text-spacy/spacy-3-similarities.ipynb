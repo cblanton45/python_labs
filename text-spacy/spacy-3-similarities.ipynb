{
 "cells": [
  {
   "cell_type": "markdown",
   "metadata": {},
   "source": [
    "# Lab : Spacy - Similarities\n",
    "Find out similar words!\n",
    "\n",
    "### Runtime\n",
    "10-15 minutes"
   ]
  },
  {
   "cell_type": "markdown",
   "metadata": {},
   "source": [
    "## Step 1 - Import"
   ]
  },
  {
   "cell_type": "code",
   "execution_count": 1,
   "metadata": {},
   "outputs": [
    {
     "name": "stdout",
     "output_type": "stream",
     "text": [
      "spacy version  2.0.16\n",
      "CPU times: user 634 ms, sys: 675 ms, total: 1.31 s\n",
      "Wall time: 286 ms\n"
     ]
    }
   ],
   "source": [
    "%%time\n",
    "import spacy\n",
    "print (\"spacy version \", spacy.__version__)\n"
   ]
  },
  {
   "cell_type": "markdown",
   "metadata": {},
   "source": [
    "## Step 2 - Download Model\n",
    "we can experiment with small/medium/large models.\n",
    "\n",
    "Beware, large model can take a long time to download and load!"
   ]
  },
  {
   "cell_type": "code",
   "execution_count": 2,
   "metadata": {},
   "outputs": [
    {
     "name": "stdout",
     "output_type": "stream",
     "text": [
      "Collecting en_core_web_md==2.0.0 from https://github.com/explosion/spacy-models/releases/download/en_core_web_md-2.0.0/en_core_web_md-2.0.0.tar.gz#egg=en_core_web_md==2.0.0\n",
      "\u001b[?25l  Downloading https://github.com/explosion/spacy-models/releases/download/en_core_web_md-2.0.0/en_core_web_md-2.0.0.tar.gz (120.8MB)\n",
      "\u001b[K    100% |████████████████████████████████| 120.9MB 45.3MB/s ta 0:00:01\n",
      "\u001b[?25hInstalling collected packages: en-core-web-md\n",
      "  Running setup.py install for en-core-web-md ... \u001b[?25ldone\n",
      "\u001b[?25hSuccessfully installed en-core-web-md-2.0.0\n",
      "\n",
      "\u001b[93m    Linking successful\u001b[0m\n",
      "    /home/ubuntu/apps/anaconda/lib/python3.7/site-packages/en_core_web_md\n",
      "    -->\n",
      "    /home/ubuntu/apps/anaconda/lib/python3.7/site-packages/spacy/data/en_core_web_md\n",
      "\n",
      "    You can now load the model via spacy.load('en_core_web_md')\n",
      "\n"
     ]
    }
   ],
   "source": [
    "## Download the models\n",
    "\n",
    "spacy_model = 'en_core_web_sm'\n",
    "\n",
    "# medium\n",
    "# spacy_model = 'en_core_web_md'\n",
    "\n",
    "# large\n",
    "# spacy_model = 'en_core_web_lg'\n",
    "\n",
    "## small\n",
    "! python -m spacy download $spacy_model\n"
   ]
  },
  {
   "cell_type": "code",
   "execution_count": 3,
   "metadata": {},
   "outputs": [
    {
     "name": "stdout",
     "output_type": "stream",
     "text": [
      "CPU times: user 11.3 s, sys: 259 ms, total: 11.5 s\n",
      "Wall time: 11.5 s\n"
     ]
    }
   ],
   "source": [
    "%%time\n",
    "## Load the right model\n",
    "nlp = spacy.load(spacy_model)"
   ]
  },
  {
   "cell_type": "markdown",
   "metadata": {},
   "source": [
    "## Step 3 - Find Similarities in words"
   ]
  },
  {
   "cell_type": "code",
   "execution_count": 4,
   "metadata": {},
   "outputs": [
    {
     "name": "stdout",
     "output_type": "stream",
     "text": [
      "city city 1.0\n",
      "city street 0.5766038\n",
      "city car 0.41435096\n",
      "city sky 0.383001\n",
      "city cloud 0.2192296\n",
      "city burger 0.20934574\n",
      "city fries 0.10690176\n",
      "street city 0.5766038\n",
      "street street 1.0\n",
      "street car 0.43153206\n",
      "street sky 0.30251956\n",
      "street cloud 0.1568121\n",
      "street burger 0.26956013\n",
      "street fries 0.1806067\n",
      "car city 0.41435096\n",
      "car street 0.43153206\n",
      "car car 1.0\n",
      "car sky 0.25578403\n",
      "car cloud 0.15403153\n",
      "car burger 0.16053548\n",
      "car fries 0.09961168\n",
      "sky city 0.383001\n",
      "sky street 0.30251956\n",
      "sky car 0.25578403\n",
      "sky sky 1.0\n",
      "sky cloud 0.5564015\n",
      "sky burger 0.14439403\n",
      "sky fries 0.14150934\n",
      "cloud city 0.2192296\n",
      "cloud street 0.1568121\n",
      "cloud car 0.15403153\n",
      "cloud sky 0.5564015\n",
      "cloud cloud 1.0\n",
      "cloud burger 0.11223613\n",
      "cloud fries 0.079438336\n",
      "burger city 0.20934574\n",
      "burger street 0.26956013\n",
      "burger car 0.16053548\n",
      "burger sky 0.14439403\n",
      "burger cloud 0.11223613\n",
      "burger burger 1.0\n",
      "burger fries 0.79637605\n",
      "fries city 0.10690176\n",
      "fries street 0.1806067\n",
      "fries car 0.09961168\n",
      "fries sky 0.14150934\n",
      "fries cloud 0.079438336\n",
      "fries burger 0.79637605\n",
      "fries fries 1.0\n"
     ]
    }
   ],
   "source": [
    "text = 'city street car sky cloud burger fries'\n",
    "\n",
    "doc = nlp(text)\n",
    "\n",
    "for t1 in doc:\n",
    "  for t2 in doc:\n",
    "    print(t1.text, t2.text, t1.similarity(t2))"
   ]
  },
  {
   "cell_type": "code",
   "execution_count": 5,
   "metadata": {},
   "outputs": [
    {
     "name": "stdout",
     "output_type": "stream",
     "text": [
      "            city    street       car       sky     cloud    burger     fries\n",
      "city    1.000000  0.576604  0.414351  0.383001  0.219230  0.209346  0.106902\n",
      "street  0.576604  1.000000  0.431532  0.302520  0.156812  0.269560  0.180607\n",
      "car     0.414351  0.431532  1.000000  0.255784  0.154032  0.160535  0.099612\n",
      "sky     0.383001  0.302520  0.255784  1.000000  0.556401  0.144394  0.141509\n",
      "cloud   0.219230  0.156812  0.154032  0.556401  1.000000  0.112236  0.079438\n",
      "burger  0.209346  0.269560  0.160535  0.144394  0.112236  1.000000  0.796376\n",
      "fries   0.106902  0.180607  0.099612  0.141509  0.079438  0.796376  1.000000\n"
     ]
    },
    {
     "data": {
      "text/html": [
       "<div>\n",
       "<style scoped>\n",
       "    .dataframe tbody tr th:only-of-type {\n",
       "        vertical-align: middle;\n",
       "    }\n",
       "\n",
       "    .dataframe tbody tr th {\n",
       "        vertical-align: top;\n",
       "    }\n",
       "\n",
       "    .dataframe thead th {\n",
       "        text-align: right;\n",
       "    }\n",
       "</style>\n",
       "<table border=\"1\" class=\"dataframe\">\n",
       "  <thead>\n",
       "    <tr style=\"text-align: right;\">\n",
       "      <th></th>\n",
       "      <th>city</th>\n",
       "      <th>street</th>\n",
       "      <th>car</th>\n",
       "      <th>sky</th>\n",
       "      <th>cloud</th>\n",
       "      <th>burger</th>\n",
       "      <th>fries</th>\n",
       "    </tr>\n",
       "  </thead>\n",
       "  <tbody>\n",
       "    <tr>\n",
       "      <td>city</td>\n",
       "      <td>1.000000</td>\n",
       "      <td>0.576604</td>\n",
       "      <td>0.414351</td>\n",
       "      <td>0.383001</td>\n",
       "      <td>0.219230</td>\n",
       "      <td>0.209346</td>\n",
       "      <td>0.106902</td>\n",
       "    </tr>\n",
       "    <tr>\n",
       "      <td>street</td>\n",
       "      <td>0.576604</td>\n",
       "      <td>1.000000</td>\n",
       "      <td>0.431532</td>\n",
       "      <td>0.302520</td>\n",
       "      <td>0.156812</td>\n",
       "      <td>0.269560</td>\n",
       "      <td>0.180607</td>\n",
       "    </tr>\n",
       "    <tr>\n",
       "      <td>car</td>\n",
       "      <td>0.414351</td>\n",
       "      <td>0.431532</td>\n",
       "      <td>1.000000</td>\n",
       "      <td>0.255784</td>\n",
       "      <td>0.154032</td>\n",
       "      <td>0.160535</td>\n",
       "      <td>0.099612</td>\n",
       "    </tr>\n",
       "    <tr>\n",
       "      <td>sky</td>\n",
       "      <td>0.383001</td>\n",
       "      <td>0.302520</td>\n",
       "      <td>0.255784</td>\n",
       "      <td>1.000000</td>\n",
       "      <td>0.556401</td>\n",
       "      <td>0.144394</td>\n",
       "      <td>0.141509</td>\n",
       "    </tr>\n",
       "    <tr>\n",
       "      <td>cloud</td>\n",
       "      <td>0.219230</td>\n",
       "      <td>0.156812</td>\n",
       "      <td>0.154032</td>\n",
       "      <td>0.556401</td>\n",
       "      <td>1.000000</td>\n",
       "      <td>0.112236</td>\n",
       "      <td>0.079438</td>\n",
       "    </tr>\n",
       "    <tr>\n",
       "      <td>burger</td>\n",
       "      <td>0.209346</td>\n",
       "      <td>0.269560</td>\n",
       "      <td>0.160535</td>\n",
       "      <td>0.144394</td>\n",
       "      <td>0.112236</td>\n",
       "      <td>1.000000</td>\n",
       "      <td>0.796376</td>\n",
       "    </tr>\n",
       "    <tr>\n",
       "      <td>fries</td>\n",
       "      <td>0.106902</td>\n",
       "      <td>0.180607</td>\n",
       "      <td>0.099612</td>\n",
       "      <td>0.141509</td>\n",
       "      <td>0.079438</td>\n",
       "      <td>0.796376</td>\n",
       "      <td>1.000000</td>\n",
       "    </tr>\n",
       "  </tbody>\n",
       "</table>\n",
       "</div>"
      ],
      "text/plain": [
       "            city    street       car       sky     cloud    burger     fries\n",
       "city    1.000000  0.576604  0.414351  0.383001  0.219230  0.209346  0.106902\n",
       "street  0.576604  1.000000  0.431532  0.302520  0.156812  0.269560  0.180607\n",
       "car     0.414351  0.431532  1.000000  0.255784  0.154032  0.160535  0.099612\n",
       "sky     0.383001  0.302520  0.255784  1.000000  0.556401  0.144394  0.141509\n",
       "cloud   0.219230  0.156812  0.154032  0.556401  1.000000  0.112236  0.079438\n",
       "burger  0.209346  0.269560  0.160535  0.144394  0.112236  1.000000  0.796376\n",
       "fries   0.106902  0.180607  0.099612  0.141509  0.079438  0.796376  1.000000"
      ]
     },
     "execution_count": 5,
     "metadata": {},
     "output_type": "execute_result"
    }
   ],
   "source": [
    "## Pretty Print\n",
    "import pandas as pd\n",
    "rows  = list(doc)\n",
    "df = pd.DataFrame (index=rows)\n",
    "\n",
    "\n",
    "for t1 in doc:\n",
    "  for t2 in doc:\n",
    "    #print(t1.text, t2.text, t1.similarity(t2))\n",
    "    df.at[t1, t2] = t1.similarity(t2)\n",
    "\n",
    "print(df)    \n",
    "df"
   ]
  },
  {
   "cell_type": "markdown",
   "metadata": {},
   "source": [
    "## Step 4 - Experiment\n",
    "For the first run we used the small model 'en_core_web_sm'.\n",
    "\n",
    "Make note of the similarity matrix (copy the output and save it in another txt file)\n",
    "\n",
    "IN Step-2 download a medium model.  \n",
    "Uncomment the following line\n",
    "```python\n",
    "# spacy_model = 'en_core_web_md'\n",
    "```\n",
    "And run the notebook again.  \n",
    "Do the similarities improve with larger model?"
   ]
  },
  {
   "cell_type": "code",
   "execution_count": null,
   "metadata": {},
   "outputs": [],
   "source": []
  }
 ],
 "metadata": {
  "kernelspec": {
   "display_name": "Python 3",
   "language": "python",
   "name": "python3"
  },
  "language_info": {
   "codemirror_mode": {
    "name": "ipython",
    "version": 3
   },
   "file_extension": ".py",
   "mimetype": "text/x-python",
   "name": "python",
   "nbconvert_exporter": "python",
   "pygments_lexer": "ipython3",
   "version": "3.7.3"
  }
 },
 "nbformat": 4,
 "nbformat_minor": 4
}
