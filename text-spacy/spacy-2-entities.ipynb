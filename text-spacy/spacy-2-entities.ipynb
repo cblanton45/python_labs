{
 "cells": [
  {
   "cell_type": "markdown",
   "metadata": {},
   "source": [
    "# Lab : Spacy-2 : Entity Detection\n",
    "Using Spacy's entity detection feature\n",
    "\n",
    "## Runtime \n",
    "20-30 mins"
   ]
  },
  {
   "cell_type": "markdown",
   "metadata": {},
   "source": [
    "## Step 1 - Import"
   ]
  },
  {
   "cell_type": "code",
   "execution_count": null,
   "metadata": {},
   "outputs": [],
   "source": [
    "%%time\n",
    "import spacy\n",
    "print (\"spacy version \", spacy.__version__)\n",
    "\n",
    "nlp = spacy.load(\"en_core_web_sm\")"
   ]
  },
  {
   "cell_type": "markdown",
   "metadata": {},
   "source": [
    "## Step 2 - Load some text"
   ]
  },
  {
   "cell_type": "code",
   "execution_count": null,
   "metadata": {},
   "outputs": [],
   "source": [
    "text=\"\"\"Apple unveiled the first iPhone in 2007 in San Francisco, California.  \n",
    "Steve Jobs did a flawless live demonstration of the phone.\"\"\""
   ]
  },
  {
   "cell_type": "code",
   "execution_count": null,
   "metadata": {},
   "outputs": [],
   "source": [
    "doc = nlp(text)\n",
    "\n",
    "for token in doc:\n",
    "    print(token)"
   ]
  },
  {
   "cell_type": "code",
   "execution_count": null,
   "metadata": {},
   "outputs": [],
   "source": [
    "## details of tokens\n",
    "\n",
    "# for token in doc:\n",
    "#     print (\"token.text : \", token.text)\n",
    "#     print (\"    token.lemma_ : \", token.lemma_)\n",
    "#     print (\"    token.pos_ : \", token.pos_)\n",
    "#     print (\"    token.tag_ : \", token.tag_)\n",
    "#     print (\"    token.dep_ : \", token.dep_)\n",
    "#     print (\"    token.shape_ : \", token.shape_)\n",
    "#     print (\"    token.is_alpha : \", token.is_alpha)\n",
    "#     print (\"    token.is_stop : \", token.is_stop)\n",
    "#     print()"
   ]
  },
  {
   "cell_type": "markdown",
   "metadata": {},
   "source": [
    "## Step 3 - Entities"
   ]
  },
  {
   "cell_type": "code",
   "execution_count": null,
   "metadata": {},
   "outputs": [],
   "source": [
    "## TODO : print out entity label : \n",
    "## Hint : ent.label_\n",
    "\n",
    "for ent in doc.ents:\n",
    "  print(ent.text, \":\", ent.???)"
   ]
  },
  {
   "cell_type": "markdown",
   "metadata": {},
   "source": [
    "## Step 4 - Visualize Using Displacy"
   ]
  },
  {
   "cell_type": "code",
   "execution_count": null,
   "metadata": {},
   "outputs": [],
   "source": [
    "from spacy import displacy\n",
    "\n",
    "## TODO : pass the 'doc' as first arg\n",
    "displacy.render(???, style=\"ent\", jupyter=True)"
   ]
  },
  {
   "cell_type": "markdown",
   "metadata": {},
   "source": [
    "## Step 5 - Experiment\n",
    "In Step-2 add your own `text`  and run the notebook again."
   ]
  },
  {
   "cell_type": "code",
   "execution_count": null,
   "metadata": {},
   "outputs": [],
   "source": []
  }
 ],
 "metadata": {
  "kernelspec": {
   "display_name": "Python 3",
   "language": "python",
   "name": "python3"
  },
  "language_info": {
   "codemirror_mode": {
    "name": "ipython",
    "version": 3
   },
   "file_extension": ".py",
   "mimetype": "text/x-python",
   "name": "python",
   "nbconvert_exporter": "python",
   "pygments_lexer": "ipython3",
   "version": "3.7.3"
  }
 },
 "nbformat": 4,
 "nbformat_minor": 4
}
