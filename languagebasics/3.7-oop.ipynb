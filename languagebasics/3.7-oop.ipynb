{
 "cells": [
  {
   "cell_type": "markdown",
   "metadata": {},
   "source": [
    "# OOP in Python\n",
    "\n",
    "Let's look at an example of a class in python.\n",
    "\n",
    "We will define a door.  It has two member variables:\n",
    "\n",
    "1. Number: Which door number it is 1,2,3,etc\n",
    "2. Status: Whether the door is open or closed\n",
    "\n",
    "We will define a constructor that takes the number and the status to initialialize.  Constructors should contain all class required to initialize the object.\n",
    "\n",
    "All methods (including the constructor) should take \"self\" as the implicit first parameters"
   ]
  },
  {
   "cell_type": "code",
   "execution_count": null,
   "metadata": {
    "collapsed": true
   },
   "outputs": [],
   "source": [
    "class Door:  # Note Class Names are usually capitalized with CamelCase\n",
    "    def __init__(self, number, status):   # Constructor method\n",
    "        self.number = number  # self refers to the class itself\n",
    "        self.status = status\n",
    "\n",
    "    def open(self):\n",
    "        self.status = 'open'\n",
    "\n",
    "    def close(self):\n",
    "        self.status = 'closed'"
   ]
  },
  {
   "cell_type": "markdown",
   "metadata": {},
   "source": [
    "### Instantiating a class\n",
    "\n",
    "We can instantiate a class like this:\n",
    "\n",
    "```python\n",
    "myobject = MyClassName(param1, param2)\n",
    "```\n",
    "\n",
    "For example, for this class we can instantiate it like this:\n",
    "\n",
    "```python\n",
    "my_door = Door(1, 'closed')\n"
   ]
  },
  {
   "cell_type": "code",
   "execution_count": null,
   "metadata": {
    "collapsed": true
   },
   "outputs": [],
   "source": [
    "door1 = ???  # Door(1, 'closed')\n"
   ]
  },
  {
   "cell_type": "code",
   "execution_count": null,
   "metadata": {
    "collapsed": true
   },
   "outputs": [],
   "source": [
    "## Let's look at the type of door1\n",
    "\n",
    "type(door1)"
   ]
  },
  {
   "cell_type": "code",
   "execution_count": null,
   "metadata": {
    "collapsed": true
   },
   "outputs": [],
   "source": [
    "## TODO: Let's open the door\n",
    "\n",
    "door1.???()"
   ]
  },
  {
   "cell_type": "code",
   "execution_count": null,
   "metadata": {
    "collapsed": true
   },
   "outputs": [],
   "source": [
    "## TODO: Verify that the class is open\n",
    "door1.status"
   ]
  },
  {
   "cell_type": "code",
   "execution_count": null,
   "metadata": {
    "collapsed": true
   },
   "outputs": [],
   "source": [
    "## TODO: try closing the door\n",
    "door1.???()\n",
    "door1.status"
   ]
  },
  {
   "cell_type": "markdown",
   "metadata": {},
   "source": [
    "### Class Attributes and Class Methods\n",
    "\n",
    "Similar to other languages is the idea of a static attribute or method  This means it's common to ALL instantiations of the class and not just one instance.  We can define this as follows:\n",
    "\n"
   ]
  },
  {
   "cell_type": "code",
   "execution_count": null,
   "metadata": {
    "collapsed": true
   },
   "outputs": [],
   "source": [
    "class Door:  # We're re-defining class Door from scratch\n",
    "    \n",
    "    color = 'brown'  # static: common to all instantiations\n",
    "\n",
    "    def __init__(self, number, status):   \n",
    "        self.number = number \n",
    "        self.status = status\n",
    "\n",
    "        \n",
    "    @classmethod   # This is an annotation, similar to Java / C#\n",
    "    def knock(cls):  #This is a static method, call is same on all instances.\n",
    "        print('Knock, Knock!')\n",
    "        \n",
    "    def open(self):\n",
    "        self.status = 'open'\n",
    "\n",
    "    def close(self):\n",
    "        self.status = 'closed'\n",
    "\n",
    "door1 = Door(1, 'closed')\n"
   ]
  },
  {
   "cell_type": "markdown",
   "metadata": {},
   "source": [
    "We can access brown from either the class itself or the object instance, so any of these will work:\n",
    "\n",
    "```python\n",
    "   door1.color\n",
    "   Door.color\n",
    "```\n",
    "\n",
    "We can also call the static class function knock\n",
    "\n",
    "``python\n",
    "   door1.knock()\n",
    "   Door.knock()"
   ]
  },
  {
   "cell_type": "code",
   "execution_count": null,
   "metadata": {
    "collapsed": true
   },
   "outputs": [],
   "source": [
    "# TODO: Complete this\n",
    "print(door1.???)  # Color\n",
    "print(Door.???)"
   ]
  },
  {
   "cell_type": "code",
   "execution_count": null,
   "metadata": {
    "collapsed": true
   },
   "outputs": [],
   "source": [
    "# TODO: Complete this\n",
    "print(door1.???)  # Knock\n",
    "print(Door.???)"
   ]
  },
  {
   "cell_type": "markdown",
   "metadata": {},
   "source": [
    "###  Methods external function\n",
    "\n",
    "Methods can be called either from an instantiated object or the class itself\n",
    "\n",
    "```python\n",
    "   door1.open()  #This works\n",
    "   Door.open(door1)  # So does this\n",
    "```"
   ]
  },
  {
   "cell_type": "code",
   "execution_count": null,
   "metadata": {
    "collapsed": true
   },
   "outputs": [],
   "source": [
    "door1.???()\n",
    "Door.open(???)"
   ]
  },
  {
   "cell_type": "markdown",
   "metadata": {},
   "source": [
    "### Inheritance\n",
    "\n",
    "We also can define inheritance in Python.  This is simliar to other languages\n",
    "\n",
    "```python\n",
    "class MyDerivedClass(BaseClass):\n",
    "   # include any overriden methods or members here"
   ]
  },
  {
   "cell_type": "code",
   "execution_count": null,
   "metadata": {
    "collapsed": true
   },
   "outputs": [],
   "source": [
    "class SecurityDoor(Door):  \n",
    "    pass   #Doesn't redefine or override anything"
   ]
  },
  {
   "cell_type": "code",
   "execution_count": null,
   "metadata": {
    "collapsed": true
   },
   "outputs": [],
   "source": [
    "sdoor = SecurityDoor(1, 'closed')  #Instantiate class"
   ]
  },
  {
   "cell_type": "code",
   "execution_count": null,
   "metadata": {
    "collapsed": true
   },
   "outputs": [],
   "source": [
    "# Let's check if color is the same in both classes (since it's static)\n",
    "print(SecurityDoor.color is Door.color)\n",
    "print(sdoor.color is Door.color)"
   ]
  },
  {
   "cell_type": "code",
   "execution_count": null,
   "metadata": {
    "collapsed": true
   },
   "outputs": [],
   "source": [
    "# Let's see what the base class of SecurityDoor is\n",
    "SecurityDoor.__bases__"
   ]
  },
  {
   "cell_type": "code",
   "execution_count": null,
   "metadata": {
    "collapsed": true
   },
   "outputs": [],
   "source": [
    "class SecurityDoor(Door):\n",
    "    colour = 'gray'\n",
    "    \n",
    "    def __init__(self, number, status, locked):  \n",
    "        super().__init__(number,status)\n",
    "        self.locked = locked\n",
    "\n",
    "   "
   ]
  },
  {
   "cell_type": "code",
   "execution_count": null,
   "metadata": {
    "collapsed": true
   },
   "outputs": [],
   "source": [
    "# Instantiate SecurityDoor as locked\n",
    "sdoor = SecurityDoor(1, 'closed', 'locked')\n",
    "\n",
    "sdoor.open() # WHAT Happens?\n",
    "\n",
    "sdoor.status"
   ]
  },
  {
   "cell_type": "code",
   "execution_count": null,
   "metadata": {
    "collapsed": true
   },
   "outputs": [],
   "source": [
    "# TODO Insantiate with unlocked, then open\n",
    "\n"
   ]
  }
 ],
 "metadata": {
  "kernelspec": {
   "display_name": "Python 3",
   "language": "python",
   "name": "python3"
  },
  "language_info": {
   "codemirror_mode": {
    "name": "ipython",
    "version": 3
   },
   "file_extension": ".py",
   "mimetype": "text/x-python",
   "name": "python",
   "nbconvert_exporter": "python",
   "pygments_lexer": "ipython3",
   "version": "3.5.4"
  }
 },
 "nbformat": 4,
 "nbformat_minor": 2
}
