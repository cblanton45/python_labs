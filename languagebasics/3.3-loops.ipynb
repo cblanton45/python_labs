{
 "cells": [
  {
   "cell_type": "markdown",
   "metadata": {},
   "source": [
    "# Lab 3.3: Python Loops"
   ]
  },
  {
   "cell_type": "markdown",
   "metadata": {},
   "source": [
    "\n",
    "### Introduction\n",
    "\n",
    "We are going to discuss loops\n",
    "\n",
    "\n",
    "### For Loop:\n",
    "\n",
    "```python\n",
    "for i in range(20):\n",
    "    print(i)\n",
    "```\n",
    "\n",
    "### While Loop\n",
    "```python\n",
    "guess = 20\n",
    "i = 0\n",
    "while i < guess:\n",
    "    print('i is still less')\n",
    "print('Got it! ' + str(i))\n",
    "```"
   ]
  },
  {
   "cell_type": "code",
   "execution_count": null,
   "metadata": {
    "collapsed": true
   },
   "outputs": [],
   "source": [
    "## TODO:  Write a for loop that counts up from zero to 19\n"
   ]
  },
  {
   "cell_type": "markdown",
   "metadata": {},
   "source": [
    "Now let's determine whether the number is odd or even. \n",
    "\n",
    "Here's how we can determine if a number is odd or even\n",
    "\n",
    "```python\n",
    "number % 2 == 0 # event\n",
    "number % 2 == 1 # odd\n",
    "```"
   ]
  },
  {
   "cell_type": "code",
   "execution_count": null,
   "metadata": {
    "collapsed": true
   },
   "outputs": [],
   "source": [
    "##  TODO: Do the same loop, but print the number and the word \"even\" \n",
    "##  or \"odd\"\n",
    "\n"
   ]
  },
  {
   "cell_type": "markdown",
   "metadata": {},
   "source": [
    "### While loops\n",
    "\n",
    "Here is how we will get user input.\n",
    "\n",
    "```python\n",
    "number = input(\"Guess a number\")\n",
    "```"
   ]
  },
  {
   "cell_type": "code",
   "execution_count": null,
   "metadata": {
    "collapsed": true
   },
   "outputs": [],
   "source": [
    "import random\n",
    "n = 20\n",
    "magic_number = int(n * random.random()) + 1\n",
    "user_guess = 0"
   ]
  },
  {
   "cell_type": "code",
   "execution_count": null,
   "metadata": {
    "collapsed": true
   },
   "outputs": [],
   "source": [
    "# TODO repeatedly"
   ]
  }
 ],
 "metadata": {
  "kernelspec": {
   "display_name": "Python 3",
   "language": "python",
   "name": "python3"
  },
  "language_info": {
   "codemirror_mode": {
    "name": "ipython",
    "version": 3
   },
   "file_extension": ".py",
   "mimetype": "text/x-python",
   "name": "python",
   "nbconvert_exporter": "python",
   "pygments_lexer": "ipython3",
   "version": "3.5.4"
  }
 },
 "nbformat": 4,
 "nbformat_minor": 1
}
