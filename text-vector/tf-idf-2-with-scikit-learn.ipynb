{
 "cells": [
  {
   "cell_type": "markdown",
   "metadata": {},
   "source": [
    "# TFIDF with SciKit\n"
   ]
  },
  {
   "cell_type": "markdown",
   "metadata": {},
   "source": [
    "## Step 1 - Text"
   ]
  },
  {
   "cell_type": "code",
   "execution_count": null,
   "metadata": {},
   "outputs": [],
   "source": [
    "d0 = \"the brown dog likes the white cow\"\n",
    "d1 = \"the grass is brown\"\n",
    "d2 = \"the spotted cow likes green grass\"\n",
    "\n",
    "documents = [d0,d1,d2]"
   ]
  },
  {
   "cell_type": "markdown",
   "metadata": {},
   "source": [
    "## Step 2 - TFIDF"
   ]
  },
  {
   "cell_type": "code",
   "execution_count": null,
   "metadata": {
    "collapsed": false,
    "jupyter": {
     "outputs_hidden": false
    }
   },
   "outputs": [],
   "source": [
    "from sklearn.feature_extraction.text import TfidfVectorizer\n",
    "\n",
    "# parameters\n",
    "# ngram_range=(min,max), here we are only doing 1 word\n",
    "# stop_words = None , 'english'\n",
    "tf = TfidfVectorizer(analyzer='word', ngram_range=(1,1), min_df = 0, stop_words=None)\n",
    "print(tf)\n",
    "tfidf_matrix =  tf.fit_transform(documents)\n",
    "print()\n",
    "print(\"document-term matrix\")\n",
    "print(tfidf_matrix)\n",
    "feature_names = tf.get_feature_names()\n",
    "print()\n",
    "print(\"feature vectors\")\n",
    "for i, feature in enumerate(feature_names):\n",
    "    print(i,feature)\n",
    "\n"
   ]
  },
  {
   "cell_type": "markdown",
   "metadata": {},
   "source": [
    "## Step 3 - Pretty Print"
   ]
  },
  {
   "cell_type": "code",
   "execution_count": null,
   "metadata": {
    "collapsed": false,
    "jupyter": {
     "outputs_hidden": false
    }
   },
   "outputs": [],
   "source": [
    "## Let's pretty print\n",
    "import pandas as pd\n",
    "df = pd.DataFrame()\n",
    "\n",
    "for doc, scores in enumerate(tfidf_matrix.toarray()):\n",
    "    #print(\"doc\" , doc, feature_names)\n",
    "    for i, score in enumerate(scores):\n",
    "        #print(i, feature_names[i], score)\n",
    "        df.at[doc,feature_names[i]] =  round(float(score),2)\n",
    "\n",
    "print(\"\\ndocument term matrix\")    \n",
    "print(df)\n",
    "\n",
    "print(\"\\nterm document matrix\")\n",
    "print(df.transpose())"
   ]
  },
  {
   "cell_type": "markdown",
   "metadata": {
    "jupyter": {
     "outputs_hidden": true
    }
   },
   "source": [
    "## Step 4 - Experiment\n",
    "- in Step-1, change stop words from 'None'  to 'english'  observe the DTM produced.\n",
    "- Add your own text in Step-1 and see the DTM"
   ]
  },
  {
   "cell_type": "code",
   "execution_count": null,
   "metadata": {},
   "outputs": [],
   "source": []
  }
 ],
 "metadata": {
  "kernelspec": {
   "display_name": "Python 3",
   "language": "python",
   "name": "python3"
  },
  "language_info": {
   "codemirror_mode": {
    "name": "ipython",
    "version": 3
   },
   "file_extension": ".py",
   "mimetype": "text/x-python",
   "name": "python",
   "nbconvert_exporter": "python",
   "pygments_lexer": "ipython3",
   "version": "3.7.3"
  }
 },
 "nbformat": 4,
 "nbformat_minor": 4
}
