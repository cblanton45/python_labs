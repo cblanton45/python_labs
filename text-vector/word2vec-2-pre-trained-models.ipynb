{
 "cells": [
  {
   "cell_type": "markdown",
   "metadata": {},
   "source": [
    "# Lab : Using Word2Vec pre-trained models\n",
    "We will learn to use widely avilable pre-trained models\n",
    "\n",
    "### Runtime \n",
    "20 mins"
   ]
  },
  {
   "cell_type": "markdown",
   "metadata": {},
   "source": [
    "## Step 1 - Data\n",
    "\n",
    "https://github.com/RaRe-Technologies/gensim-data is a central repository of data and pre-trained models for Gensim.\n",
    "\n",
    "### Few notable datasets:\n",
    "- '20-news-groups'  : newsgroup postings (size : 13 MB)\n",
    "- 'patent-2017' : US patents (size : ~3G)\n",
    "- 'wiki-english-20171001' : wikipedia dump on 2017  (size : ~6G)\n",
    "\n",
    "\n",
    "### Popular pre-trained word2vec models\n",
    "\n",
    "| model | size | number of vectors | description |\n",
    "|--------------------------|----------|-------------------|------------------------------------------------------|\n",
    "| glove-twitter-25 | 104 MB | 1,193,514 | Twitter (2B tweets, 27B tokens, 1.2M vocab, uncased) |\n",
    "| word2vec-google-news-300 | 1,662 MB | 3,000,000 | Google News (about 100 billion words) |\n",
    "| glove-wiki-gigaword-300 | 376 MB | 400,000 | Wikipedia 2014 + Gigaword 5 (6B tokens, uncased) |\n",
    "\n",
    "\n",
    "**TODO : Inspect some of the models avilable**"
   ]
  },
  {
   "cell_type": "markdown",
   "metadata": {},
   "source": [
    "## Step 2 - Tweets"
   ]
  },
  {
   "cell_type": "markdown",
   "metadata": {},
   "source": [
    "### 2.1 - Available Models"
   ]
  },
  {
   "cell_type": "code",
   "execution_count": null,
   "metadata": {},
   "outputs": [],
   "source": [
    "# Get a list of models available\n",
    "\n",
    "import gensim.downloader as downloader\n",
    "from pprint import pprint\n",
    "\n",
    "info = downloader.info()\n",
    "# print(info)\n",
    "# pprint (info)"
   ]
  },
  {
   "cell_type": "markdown",
   "metadata": {},
   "source": [
    "## 2.2 - Download Glove-Twitter-25"
   ]
  },
  {
   "cell_type": "code",
   "execution_count": null,
   "metadata": {},
   "outputs": [],
   "source": [
    "%%time\n",
    "# this will download and load the model\n",
    "# data will be downloaded to  ~/gensim-data\n",
    "\n",
    "## TODO : download \"glove-twitter-25\" model\n",
    "model_glove_tw25 = downloader.load(\"???\") \n",
    "print(model_glove_tw25)"
   ]
  },
  {
   "cell_type": "markdown",
   "metadata": {},
   "source": [
    "### 2.3 - Query the model"
   ]
  },
  {
   "cell_type": "code",
   "execution_count": null,
   "metadata": {},
   "outputs": [],
   "source": [
    "model_glove_tw25.most_similar('cat')"
   ]
  },
  {
   "cell_type": "code",
   "execution_count": null,
   "metadata": {},
   "outputs": [],
   "source": [
    "#printing similarity index\n",
    "print (\"similarity(woman, man) : \",  model_glove_tw25.similarity('woman', 'man'))\n",
    "print (\"similarity(girl, boy) : \",  model_glove_tw25.similarity('girl', 'boy'))\n"
   ]
  },
  {
   "cell_type": "code",
   "execution_count": null,
   "metadata": {},
   "outputs": [],
   "source": [
    "## TODO : find similarity between prince and princess\n",
    "print (\"similarity(prince, princess) : \",  model_glove_tw25.similarity('???', '???'))"
   ]
  },
  {
   "cell_type": "code",
   "execution_count": null,
   "metadata": {},
   "outputs": [],
   "source": [
    "## TODO : try any of your phrases\n",
    "# print (\"similarity(???, ???) : \",  model_glove_tw25.similarity('???', '???'))"
   ]
  },
  {
   "cell_type": "code",
   "execution_count": null,
   "metadata": {},
   "outputs": [],
   "source": [
    "## This is classic word2vec quiz\n",
    "model_glove_tw25.most_similar(positive=['woman', 'king'], negative=['man'])"
   ]
  },
  {
   "cell_type": "markdown",
   "metadata": {},
   "source": [
    "## Step 3 - Google News Model"
   ]
  },
  {
   "cell_type": "markdown",
   "metadata": {},
   "source": [
    "### 3.1 - Download\n",
    "Large download (1.6 GB)  \n",
    "Sometimes you might run out of memory!"
   ]
  },
  {
   "cell_type": "code",
   "execution_count": null,
   "metadata": {},
   "outputs": [],
   "source": [
    "%%time\n",
    "# this will download and load the model\n",
    "# data will be downloaded to  ~/gensim-data\n",
    "## TODO : download \"word2vec-google-news-300\"\n",
    "model_google_news = downloader.load(\"???\") \n",
    "print(model_google_news)"
   ]
  },
  {
   "cell_type": "markdown",
   "metadata": {},
   "source": [
    "### 3.2 - Query"
   ]
  },
  {
   "cell_type": "code",
   "execution_count": null,
   "metadata": {},
   "outputs": [],
   "source": [
    "model_google_news.most_similar('cat')"
   ]
  },
  {
   "cell_type": "code",
   "execution_count": null,
   "metadata": {},
   "outputs": [],
   "source": [
    "#printing similarity index\n",
    "print (\"similarity(woman, man) : \",  model_google_news.similarity('woman', 'man'))\n",
    "print (\"similarity(girl, boy) : \",  model_google_news.similarity('girl', 'boy'))\n",
    "print (\"similarity(prince, princess) : \",  model_google_news.similarity('???', '???'))"
   ]
  },
  {
   "cell_type": "code",
   "execution_count": null,
   "metadata": {},
   "outputs": [],
   "source": [
    "## TODO : try any of your phrases\n",
    "# print (\"similarity(???, ???) : \",  model_glove_tw25.similarity('???', '???'))"
   ]
  },
  {
   "cell_type": "code",
   "execution_count": null,
   "metadata": {},
   "outputs": [],
   "source": [
    "model_google_news.most_similar(positive=['woman', 'king'], negative=['man'])"
   ]
  },
  {
   "cell_type": "code",
   "execution_count": null,
   "metadata": {},
   "outputs": [],
   "source": [
    "model_google_news.most_similar(positive=['Paris', 'France'], negative=['Rome'])"
   ]
  },
  {
   "cell_type": "code",
   "execution_count": null,
   "metadata": {},
   "outputs": [],
   "source": [
    "model_google_news.most_similar(positive=['father', 'son'], negative=['mother'], topn=10)"
   ]
  },
  {
   "cell_type": "markdown",
   "metadata": {},
   "source": [
    "## Step 4 - Compare the results between models\n",
    "\n",
    "Now that we have tried two models, which one seems to give more accurate answers?   \n",
    "Why ?"
   ]
  },
  {
   "cell_type": "code",
   "execution_count": null,
   "metadata": {},
   "outputs": [],
   "source": []
  }
 ],
 "metadata": {
  "kernelspec": {
   "display_name": "Python 3",
   "language": "python",
   "name": "python3"
  },
  "language_info": {
   "codemirror_mode": {
    "name": "ipython",
    "version": 3
   },
   "file_extension": ".py",
   "mimetype": "text/x-python",
   "name": "python",
   "nbconvert_exporter": "python",
   "pygments_lexer": "ipython3",
   "version": "3.7.3"
  }
 },
 "nbformat": 4,
 "nbformat_minor": 4
}
