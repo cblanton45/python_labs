{
 "cells": [
  {
   "cell_type": "markdown",
   "metadata": {},
   "source": [
    "# Explore House Sales Data\n",
    "\n",
    "Let's explore the house sales data."
   ]
  },
  {
   "cell_type": "code",
   "execution_count": null,
   "metadata": {
    "collapsed": true
   },
   "outputs": [],
   "source": [
    "import numpy as np\n",
    "import pandas as pd\n"
   ]
  },
  {
   "cell_type": "markdown",
   "metadata": {},
   "source": [
    "## Read and Display data"
   ]
  },
  {
   "cell_type": "code",
   "execution_count": null,
   "metadata": {
    "scrolled": true
   },
   "outputs": [],
   "source": [
    "house_prices = pd.read_csv(\"/data/house-prices/house-sales-simplified.csv\")\n",
    "house_prices"
   ]
  },
  {
   "cell_type": "markdown",
   "metadata": {},
   "source": [
    "## 'Summary' of data"
   ]
  },
  {
   "cell_type": "code",
   "execution_count": null,
   "metadata": {},
   "outputs": [],
   "source": [
    "house_prices.describe()\n",
    "# copy this output to a text editor to see all the details\n",
    "\n"
   ]
  },
  {
   "cell_type": "markdown",
   "metadata": {},
   "source": [
    "## Get an idea of one attribute"
   ]
  },
  {
   "cell_type": "code",
   "execution_count": null,
   "metadata": {},
   "outputs": [],
   "source": [
    "house_prices[[\"SalePrice\"]].describe()\n"
   ]
  },
  {
   "cell_type": "markdown",
   "metadata": {},
   "source": [
    "## Report on Bedrooms vs Sales\n",
    "Let's calculte sales per bedrooms"
   ]
  },
  {
   "cell_type": "code",
   "execution_count": null,
   "metadata": {
    "scrolled": true
   },
   "outputs": [],
   "source": [
    "## Hint : 'Bedrooms'\n",
    "bedroom_sales = house_prices.groupby(\"Bedrooms\").count()\n",
    "bedroom_sales"
   ]
  },
  {
   "cell_type": "code",
   "execution_count": null,
   "metadata": {
    "scrolled": true
   },
   "outputs": [],
   "source": [
    "## TODO: order by count top to bottom\n",
    "bedroom_sales.sort_values(\"???\", ascending=False) "
   ]
  },
  {
   "cell_type": "markdown",
   "metadata": {},
   "source": [
    "## Calculate some percentiles"
   ]
  },
  {
   "cell_type": "code",
   "execution_count": null,
   "metadata": {},
   "outputs": [],
   "source": [
    "percentiles = (0.25, 0.5, 0.75, 0.9, 0.95)\n",
    "prices = house_prices['SalePrice'].quantile(percentiles)\n",
    "\n",
    "print(percentiles)\n",
    "print(prices)\n",
    "\n",
    "# get a Pandas dataframe for pretty print\n",
    "percentile_pricing_df = pd.DataFrame({\"percentile\": percentiles, \"price\": prices} )\n",
    "percentile_pricing_df"
   ]
  },
  {
   "cell_type": "markdown",
   "metadata": {},
   "source": [
    "## Covariance & Correlation\n",
    "\n",
    "Q1 : Calculate Covariance between \"SalePrice\"  and \"Bedrooms\"\n",
    "    df.cov()\n",
    "\n",
    "Q1 : Which attributes influences sale price more?  \n",
    "- Number of Bedrooms (\"Bedrooms\")\n",
    "- or size of the home (\"SqFtTotLiving\")\n",
    "\n",
    "Hint : calculate Correlation  df.corr()\n",
    "\n",
    "**Q=> Can you explain the result**"
   ]
  },
  {
   "cell_type": "code",
   "execution_count": null,
   "metadata": {
    "collapsed": true
   },
   "outputs": [],
   "source": [
    "house_prices.??? # Calculate covariance matrix"
   ]
  },
  {
   "cell_type": "code",
   "execution_count": null,
   "metadata": {},
   "outputs": [],
   "source": [
    "house_prices.???  # calculate correlation matrix"
   ]
  },
  {
   "cell_type": "code",
   "execution_count": null,
   "metadata": {},
   "outputs": [],
   "source": []
  },
  {
   "cell_type": "markdown",
   "metadata": {},
   "source": [
    "## Bonus Lab : Find the most expensive zip codes\n",
    "We have data from many zip codes.  \n",
    "To find the most expensive zip code, let's first calculate  **price per sqft**"
   ]
  },
  {
   "cell_type": "code",
   "execution_count": null,
   "metadata": {
    "collapsed": true
   },
   "outputs": [],
   "source": [
    "## Step 1 : calculate price per sqft\n",
    "## TODO : do the math, divide  house_prices['SalePrice'] by  house_prices['SqFtTotLiving']\n",
    "house_prices['price_per_sqft'] = ???\n",
    "\n"
   ]
  },
  {
   "cell_type": "code",
   "execution_count": null,
   "metadata": {
    "collapsed": true
   },
   "outputs": [],
   "source": [
    "## Group data by zipcode and take the avg of price_per_sqft\n",
    "b  = price_per_sqft.??? \n",
    "b"
   ]
  },
  {
   "cell_type": "code",
   "execution_count": null,
   "metadata": {
    "collapsed": true
   },
   "outputs": [],
   "source": [
    "## Now sort by avg price\n",
    "b.???('???', ascending=False)"
   ]
  }
 ],
 "metadata": {
  "kernelspec": {
   "display_name": "Python 3",
   "language": "python",
   "name": "python3"
  },
  "language_info": {
   "codemirror_mode": {
    "name": "ipython",
    "version": 3
   },
   "file_extension": ".py",
   "mimetype": "text/x-python",
   "name": "python",
   "nbconvert_exporter": "python",
   "pygments_lexer": "ipython3",
   "version": "3.5.4"
  }
 },
 "nbformat": 4,
 "nbformat_minor": 1
}
