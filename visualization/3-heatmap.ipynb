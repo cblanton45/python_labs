{
 "cells": [
  {
   "cell_type": "markdown",
   "metadata": {},
   "source": [
    "\n",
    "3-Heatmaps\n",
    "============\n",
    "\n",
    "### Overview\n",
    "- Learn heatmap library\n",
    "\n",
    "### Depends On\n",
    "None\n",
    "\n",
    "### Run time\n",
    "10-15 mins\n",
    "\n",
    "### Working directory\n",
    "R/08-graph\n"
   ]
  },
  {
   "cell_type": "markdown",
   "metadata": {},
   "source": [
    "\n",
    "# Heat Map of NBA Data\n",
    "\n",
    "## STEP 1: Read Data\n",
    "**=> Read file [data/viz/nba-2008.csv](../data/viz/nba-2008.csv) into a dataframe `nba`.**\n",
    "```python\n",
    "    nba = pd.read_csv(\"../data/viz/nba-2008.csv\")\n",
    "```\n",
    "\n",
    "**=> Inspect the data frame**"
   ]
  },
  {
   "cell_type": "code",
   "execution_count": null,
   "metadata": {
    "collapsed": true
   },
   "outputs": [],
   "source": [
    "import pandas as pd\n",
    "nba = pd.read_csv(\"../data/viz/nba-2008.csv\")"
   ]
  },
  {
   "cell_type": "code",
   "execution_count": null,
   "metadata": {
    "collapsed": true
   },
   "outputs": [],
   "source": [
    "import pandas as pd\n",
    "nba = ???"
   ]
  },
  {
   "cell_type": "code",
   "execution_count": null,
   "metadata": {},
   "outputs": [],
   "source": [
    "nba = nba.set_index(nba['PlayerName']).drop(['PlayerName'], axis=1)\n",
    "nba"
   ]
  },
  {
   "cell_type": "markdown",
   "metadata": {},
   "source": [
    "\n",
    "## STEP 2) Sort\n",
    "**=> sort nba data frame by `PTS` column.**\n",
    "Hint: `sort([column])`\n",
    "```python\n",
    "    nba.sort_values(['PTS'])\n",
    "```\n"
   ]
  },
  {
   "cell_type": "code",
   "execution_count": null,
   "metadata": {
    "collapsed": true
   },
   "outputs": [],
   "source": [
    "# TODO: Sort dataframe\n",
    "nba = nba.???"
   ]
  },
  {
   "cell_type": "code",
   "execution_count": null,
   "metadata": {
    "scrolled": true
   },
   "outputs": [],
   "source": [
    "%matplotlib inline\n",
    "import seaborn as sns\n",
    "import matplotlib.pyplot as plt\n",
    "sns.set()\n",
    "fig=plt.figure(figsize=(26, 20), dpi= 80, facecolor='w', edgecolor='k')\n",
    "fig, ax = plt.subplots()\n",
    "fig.set_size_inches(8., 8.)\n",
    "sns.heatmap(nba, cbar=False)\n",
    "sns.despine()"
   ]
  },
  {
   "cell_type": "markdown",
   "metadata": {},
   "source": [
    "### What happened?\n",
    "\n",
    "Oops!  Looks like our heatmap is entirely focused on the stats for Games. That's the one with the largest magnitude.  Let's try to normalize this. \n",
    "\n",
    "Here's the formula.\n",
    "\n",
    "(Column Val - Mean() ) / Std\n",
    "\n",
    "You can call this on the entire colums:\n",
    "\n",
    "```python\n",
    "(df - df.mean())/df.std()\n",
    "```\n"
   ]
  },
  {
   "cell_type": "code",
   "execution_count": null,
   "metadata": {
    "collapsed": true
   },
   "outputs": [],
   "source": [
    "\n",
    "# Now if we normalize it by column:\n",
    "df_norm_col= ??? # TODO: FIx this.\n"
   ]
  },
  {
   "cell_type": "code",
   "execution_count": null,
   "metadata": {},
   "outputs": [],
   "source": [
    "import seaborn as sns\n",
    "import matplotlib.pyplot as plt\n",
    "sns.set()\n",
    "fig=plt.figure(figsize=(26, 20), dpi= 80, facecolor='w', edgecolor='k')\n",
    "fig, ax = plt.subplots()\n",
    "fig.set_size_inches(8., 8.)\n",
    "sns.heatmap(df_norm_col, cbar=False)\n",
    "sns.despine()\n"
   ]
  },
  {
   "cell_type": "code",
   "execution_count": null,
   "metadata": {
    "collapsed": true
   },
   "outputs": [],
   "source": []
  }
 ],
 "metadata": {
  "kernelspec": {
   "display_name": "Python 3",
   "language": "python",
   "name": "python3"
  },
  "language_info": {
   "codemirror_mode": {
    "name": "ipython",
    "version": 3
   },
   "file_extension": ".py",
   "mimetype": "text/x-python",
   "name": "python",
   "nbconvert_exporter": "python",
   "pygments_lexer": "ipython3",
   "version": "3.5.4"
  }
 },
 "nbformat": 4,
 "nbformat_minor": 2
}
