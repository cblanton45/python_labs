{
 "cells": [
  {
   "cell_type": "markdown",
   "metadata": {},
   "source": [
    "\n",
    "4-ggplot\n",
    "============\n",
    "\n",
    "### Overview\n",
    "- Learn ggplot library\n",
    "\n",
    "### Depends On\n",
    "None\n",
    "\n",
    "### Run time\n",
    "10-15 mins\n",
    "\n",
    "### Working directory\n",
    "03-visualization\n",
    "\n",
    "**=> Make sure you have ggplot package installed **"
   ]
  },
  {
   "cell_type": "code",
   "execution_count": 1,
   "metadata": {
    "collapsed": true,
    "scrolled": true
   },
   "outputs": [],
   "source": [
    "# Run these imports.\n",
    "import warnings\n",
    "warnings.simplefilter(action='ignore', category=FutureWarning)\n",
    "\n",
    "\n",
    "%matplotlib inline\n",
    "import pandas as pd\n",
    "from ggplot import *"
   ]
  },
  {
   "cell_type": "markdown",
   "metadata": {},
   "source": [
    "\n",
    "## STEP 1: graphing course evaluation data\n",
    "Data is in: [data/course-evals.csv](../data/viz/course-evals.csv)\n",
    "\n",
    "<img src=../assets/images/9.3a-ggplot.png style=\"border: 5px solid grey ; max-width:100%;\" />\n",
    "\n",
    "```\n",
    "  q1: The instructor was well prepared.\n",
    "  q2: The instructor communicated well.\n",
    "  q3: The course materials were helpful.\n",
    "  q4: Overall, I found this workshop useful.\n",
    "```\n",
    "\n",
    "  Each questions (q1 - q4) will have an answer 1 - 5\n",
    "  (1 - strongly disagree /   5 - strongly agree)\n",
    " "
   ]
  },
  {
   "cell_type": "markdown",
   "metadata": {},
   "source": [
    "\n",
    "## STEP 2: read this data and examine it\n",
    "Hint: `pd.read_csv` \n",
    "\n",
    "\n",
    "```python\n",
    "import pandas as pd\n",
    "evals = pd.read_csv(\"../data/viz/course-evals.csv\", header=TRUE)\n",
    "evals\n",
    "```"
   ]
  },
  {
   "cell_type": "code",
   "execution_count": null,
   "metadata": {
    "collapsed": true
   },
   "outputs": [],
   "source": [
    "# TODO: Examine data"
   ]
  },
  {
   "cell_type": "code",
   "execution_count": null,
   "metadata": {
    "collapsed": true
   },
   "outputs": [],
   "source": [
    "# TODO: get rid of NAs in data\n",
    "evals_clean = evals.???\n",
    "evals_clea"
   ]
  },
  {
   "cell_type": "markdown",
   "metadata": {},
   "source": [
    "## STEP 3) plot frequency distribution of workshops\n",
    "Hint:\n",
    "```python\n",
    "import ggplot\n",
    "\n",
    "ggplot(??? ,    # data goes here (evals_clean)\n",
    "       aes(x=???)) +   # x = workshop\n",
    "       geom_bar()\n",
    ")\n",
    "```"
   ]
  },
  {
   "cell_type": "markdown",
   "metadata": {
    "collapsed": true
   },
   "source": [
    "\n",
    "## STEP 4) Gender distribution\n",
    "Let's also add gender distribution to the above graph\n",
    "```python\n",
    "ggplot(??? ,    # data goes here (evals.clean)\n",
    "       aes(x=???,  fill=???)) +   # x = workshop,  fill=gender\n",
    "       geom_bar()\n",
    "```\n",
    "\n",
    "Expect a graph like this:\n",
    "\n",
    "<img src=\"../assets/images/9.3b-ggplot.png\" style=\"border: 5px solid grey ; max-width:100%;\" />\n"
   ]
  },
  {
   "cell_type": "code",
   "execution_count": null,
   "metadata": {
    "collapsed": true
   },
   "outputs": [],
   "source": [
    "#TODO:"
   ]
  },
  {
   "cell_type": "markdown",
   "metadata": {},
   "source": [
    "\n",
    "## Step 5: Stacked graphs\n",
    "The layout of stacked graphs are controlled by `geom_bar(position=???)` parameter.\n",
    "Try the following\n",
    "- `position=fill`\n",
    "- `position=stack`\n",
    "- `position=dodge`\n",
    "\n",
    "Which one do you prefer?\n",
    "\n",
    "example:\n",
    "```python\n",
    "ggplot(??? ,    # data goes here (evals.clean)\n",
    "       aes(x=???,  fill=???)) +   # x = workshop,  fill=gender\n",
    "       geom_bar(position=\"fill\")\n",
    "```\n",
    "\n",
    "<img src=\"../assets/images/9.3c-ggplot.png\" style=\"border: 5px solid grey ; max-width:100%;\" />\n",
    "\n",
    "\n"
   ]
  },
  {
   "cell_type": "code",
   "execution_count": null,
   "metadata": {
    "collapsed": true
   },
   "outputs": [],
   "source": [
    "#TODO:\n",
    "    "
   ]
  },
  {
   "cell_type": "markdown",
   "metadata": {},
   "source": [
    "\n",
    "## Step 6: Box plot\n",
    "See test scores (posttest) per workshop\n",
    "\n",
    "```python\n",
    "ggpplot (evals.clean\n",
    "    aes(x=???, y=???)) +   # x=workshop,   y=posttest\n",
    "    geom_boxplot()\n",
    "```\n",
    "\n",
    "### Add some color\n",
    "Modify `geom_box(color=\"red\", fill=\"orange\")`\n",
    "\n",
    "\n"
   ]
  },
  {
   "cell_type": "code",
   "execution_count": null,
   "metadata": {
    "collapsed": true
   },
   "outputs": [],
   "source": [
    "# TODO:"
   ]
  },
  {
   "cell_type": "markdown",
   "metadata": {},
   "source": [
    "\n",
    "### Pre and Post test in one graph\n",
    "\n",
    "```python\n",
    "# pre and post scores\n",
    "g = ggplot(evals_clean, aes(x=workshop, y=posttest)) + geom_boxplot(color=\"red\")\n",
    "g\n",
    "g = g + geom_boxplot(aes(x=workshop, y=pretest), color=\"blue\")\n",
    "g\n",
    "\n",
    "```\n"
   ]
  },
  {
   "cell_type": "code",
   "execution_count": null,
   "metadata": {
    "collapsed": true
   },
   "outputs": [],
   "source": [
    "# TODO:"
   ]
  },
  {
   "cell_type": "markdown",
   "metadata": {},
   "source": [
    "\n",
    "### Add gender bias to scores\n",
    "done by `fill=gender`\n",
    "```python\n",
    "ggplot(evals.clean, aes(x=workshop, y=posttest, fill=gender)) + geom_boxplot()\n",
    "```\n",
    "<img src=\"../assets/images/9.3d-ggplot.png\" style=\"border: 5px solid grey ; max-width:100%;\" />"
   ]
  },
  {
   "cell_type": "code",
   "execution_count": null,
   "metadata": {
    "collapsed": true
   },
   "outputs": [],
   "source": []
  },
  {
   "cell_type": "markdown",
   "metadata": {},
   "source": [
    "## Step 7 : Distribution curve\n",
    "Let's see how the scores are distributed\n",
    "\n",
    "```python\n",
    "ggplot(evals.clean, aes(x=posttest)) + geom_density()\n",
    "```\n",
    "\n",
    "<img src=\"../assets/images/9.3e-ggplot.png\" style=\"border: 5px solid grey ; max-width:100%;\" />"
   ]
  },
  {
   "cell_type": "code",
   "execution_count": null,
   "metadata": {
    "collapsed": true
   },
   "outputs": [],
   "source": [
    "# TODO:\n"
   ]
  }
 ],
 "metadata": {
  "kernelspec": {
   "display_name": "Python 3",
   "language": "python",
   "name": "python3"
  },
  "language_info": {
   "codemirror_mode": {
    "name": "ipython",
    "version": 3
   },
   "file_extension": ".py",
   "mimetype": "text/x-python",
   "name": "python",
   "nbconvert_exporter": "python",
   "pygments_lexer": "ipython3",
   "version": "3.5.4"
  }
 },
 "nbformat": 4,
 "nbformat_minor": 2
}
