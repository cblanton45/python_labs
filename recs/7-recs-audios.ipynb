{
 "cells": [
  {
   "cell_type": "code",
   "execution_count": null,
   "metadata": {
    "collapsed": true
   },
   "outputs": [],
   "source": [
    "from surprise import SVD\n",
    "from surprise import Dataset\n",
    "from surprise import Reader\n",
    "from surprise.model_selection import cross_validate\n",
    "\n",
    "import pandas as pd\n",
    "import csv\n",
    "import numpy as np"
   ]
  },
  {
   "cell_type": "markdown",
   "metadata": {},
   "source": [
    "### Load Artists file\n",
    "\n",
    "Let's load the artist TSV file.  This will load the names of the artists.  We are not currently using this file right now, but may use it in the future.\n",
    "\n",
    "There are many errors in the file; we'll just skip them.\n"
   ]
  },
  {
   "cell_type": "code",
   "execution_count": null,
   "metadata": {
    "collapsed": true,
    "scrolled": true
   },
   "outputs": [],
   "source": [
    "#artists = pd.read_csv(\"/data/audioscrobble/artist_data.txt.gz\", sep='\\t', error_bad_lines=False, na_values=['na'], warn_bad_lines=False, dtype={'ArtistID':np.int32, 'ArtistName':str})\n",
    "#artists.describe()"
   ]
  },
  {
   "cell_type": "markdown",
   "metadata": {},
   "source": [
    "### Load User Artists Data file\n",
    "\n",
    "Let's load the user artist Data file -- this is our main data. And it's pretty clean.\n",
    "\n",
    "Notice that what we have is the playcount.  That's not the same as a rating.  We'll need to decide how we deal with this."
   ]
  },
  {
   "cell_type": "code",
   "execution_count": null,
   "metadata": {},
   "outputs": [],
   "source": [
    "dataset = pd.read_csv(\"/data/audioscrobble/user_artist_data.csv.gz\")\n",
    "#dataset = pd.merge(dataset, artists, how = 'left', left_on='Artist', right_on='ArtistID')\n",
    "dataset"
   ]
  },
  {
   "cell_type": "markdown",
   "metadata": {},
   "source": [
    "### Let's load the artist alias file\n",
    "\n",
    "This is a file that has artist aliases.  Misspellings, alternate versions, etc.  This will help us clean up our data.\n",
    "\n",
    "We'll load this into a a dictionary of str:str"
   ]
  },
  {
   "cell_type": "code",
   "execution_count": null,
   "metadata": {},
   "outputs": [],
   "source": [
    "alias = {}\n",
    "reader = csv.reader(open('/data/audioscrobble/artist_alias.txt', 'r'), delimiter='\\t')\n",
    "alias = dict(reader)\n",
    "alias"
   ]
  },
  {
   "cell_type": "code",
   "execution_count": null,
   "metadata": {
    "collapsed": true
   },
   "outputs": [],
   "source": [
    "# Clean up the dataset artist by using the dictionary.\n",
    "dataset['Artist'] = dataset['Artist'].apply(lambda x: int(alias[str(x)]) if str(x) in alias else x)"
   ]
  },
  {
   "cell_type": "markdown",
   "metadata": {},
   "source": [
    "### Let's look at a summary of the data\n",
    "\n",
    "* ** TODO: Do a describe() on the data **"
   ]
  },
  {
   "cell_type": "code",
   "execution_count": null,
   "metadata": {},
   "outputs": [],
   "source": [
    "### TODO: DO a describe() on the dataset()\n",
    "dataset.describe()"
   ]
  },
  {
   "cell_type": "markdown",
   "metadata": {},
   "source": [
    "### Decide what to do with the playcount\n",
    "\n",
    "How are we going to deal with the playcount?  Presumably, if the person likes the music, they will play it more. If they only play it once or twice, maybe they didn't like it?  Hard to say, but we have to do something with it.\n",
    "\n",
    "Here's a proposal.  We'll treat the playcount as a \"rating\" from 1 to 5.  Playcounts of higher than 5 will just be 5. Presumably if someone who plays a song more than 5 times likes it.\n",
    "\n",
    "We then have to set the \"scale\" of the rating.  Here from 1 to 5.\n",
    "\n",
    "* ** TODO: What is your idea? Do you have a better way of treating the playcount?  **"
   ]
  },
  {
   "cell_type": "code",
   "execution_count": null,
   "metadata": {
    "collapsed": true
   },
   "outputs": [],
   "source": [
    "dataset['Rating'] = dataset['PlayCount'].apply(lambda x: 5 if x > 5 else x)  # Playcounts > 5 are treated as 5.\n",
    "\n",
    "# A reader is still needed but only the rating_scale param is required.\n",
    "reader = Reader(rating_scale=(1, 5))\n",
    "\n",
    "### TODO: Think of a way todo the Playcount.\n"
   ]
  },
  {
   "cell_type": "markdown",
   "metadata": {},
   "source": [
    "### Convert pandas dataframe to Dataset format\n",
    "\n",
    "We need to use the internal scikit-surprise format for the data.  Luckily, it's easy to convert from a pandas dataframe."
   ]
  },
  {
   "cell_type": "code",
   "execution_count": null,
   "metadata": {
    "collapsed": true
   },
   "outputs": [],
   "source": [
    "# Load the audioscrobbler dataset\n",
    "data = Dataset.load_from_df(dataset[['User', 'Artist', 'Rating']], reader)\n"
   ]
  },
  {
   "cell_type": "markdown",
   "metadata": {},
   "source": [
    "### Use the SVD Algorithm to train the model.\n",
    "\n",
    "Note: This may take a LOOONNG time to run.\n",
    "    \n",
    "We will run a cross validation while we train and get the results."
   ]
  },
  {
   "cell_type": "code",
   "execution_count": null,
   "metadata": {
    "collapsed": true
   },
   "outputs": [],
   "source": [
    "# Run 5-fold cross-validation and print results.\n",
    "cross_validate(SVD(), data, measures=['RMSE', 'MAE'], cv=5, verbose=True)"
   ]
  },
  {
   "cell_type": "markdown",
   "metadata": {
    "collapsed": true
   },
   "source": [
    "### Evaluate the Results\n",
    "\n",
    "What is the RMSE?  What does that tell us about the results?\n"
   ]
  }
 ],
 "metadata": {
  "kernelspec": {
   "display_name": "Python 3",
   "language": "python",
   "name": "python3"
  },
  "language_info": {
   "codemirror_mode": {
    "name": "ipython",
    "version": 3
   },
   "file_extension": ".py",
   "mimetype": "text/x-python",
   "name": "python",
   "nbconvert_exporter": "python",
   "pygments_lexer": "ipython3",
   "version": "3.5.4"
  }
 },
 "nbformat": 4,
 "nbformat_minor": 2
}
