{
 "cells": [
  {
   "cell_type": "markdown",
   "metadata": {},
   "source": [
    "# Web-2 : Time Tracker Webservice\n",
    "We are going to build a web service that keeps track of time spent on various tasks.\n",
    "\n",
    "We are keeping our tasks as a simple list in memory.  In reality you will store this into a database.\n",
    "\n",
    "```python\n",
    "\n",
    "tasks = [\n",
    "    {\n",
    "        'id': 1,\n",
    "        'name': u'fixing bug #1',\n",
    "        'time_spent': 20  # in mins\n",
    "    },\n",
    "    {\n",
    "        'id': 2,\n",
    "        'name': u'customer support',\n",
    "        'time_spent': 30\n",
    "    }\n",
    "]\n",
    "```\n",
    "\n",
    "We will build a web server and a client"
   ]
  },
  {
   "cell_type": "markdown",
   "metadata": {},
   "source": [
    "## Step 1 : Run Web Server\n",
    "\n",
    "**Inspect** this file [time-tracker-webservice.py](time-tracker-webservice.py)\n",
    "\n",
    "This is our web service server.  \n",
    "We are going to build up the service by fixing TODO items in the code.\n",
    "\n",
    "We are building REST api calls by using annotations as follows\n"
   ]
  },
  {
   "cell_type": "code",
   "execution_count": null,
   "metadata": {},
   "outputs": [],
   "source": [
    "import flask\n",
    "\n",
    "tasks = [\n",
    "    {\n",
    "        'id': 1,\n",
    "        'name': u'fixing bug #1',\n",
    "        'time_spent': 20  # in mins\n",
    "    },\n",
    "    {\n",
    "        'id': 2,\n",
    "        'name': u'customer support',\n",
    "        'time_spent': 30\n",
    "    }\n",
    "]\n",
    "\n",
    "@app.route('/tasks/list', methods=['GET'])\n",
    "def get_tasks_list():\n",
    "    ret_value = {'status' : 'ok',\\\n",
    "                 'tasks' : tasks}\n",
    "    return flask.jsonify(ret_value)"
   ]
  },
  {
   "cell_type": "markdown",
   "metadata": {},
   "source": [
    "\n",
    "Launch the server from a terminal, as it is a long running process\n",
    "\n",
    "```bash\n",
    "   $   cd data-analytics-python-labs/web\n",
    "   $   python ./time-tracker-webservice.py\n",
    "```\n",
    "\n",
    "Go to url http://127.0.0.1:5000/ to make sure server is running."
   ]
  },
  {
   "cell_type": "markdown",
   "metadata": {},
   "source": [
    "## Step 2 : Client\n",
    "We will use `httpie` for our testing.\n",
    "\n",
    "Install *httpie* as follows\n",
    "\n",
    "```bash\n",
    "   $ pip install httpie\n",
    "```"
   ]
  },
  {
   "cell_type": "markdown",
   "metadata": {},
   "source": [
    "## Step 3 : Quick Test\n",
    "Execute the following from notebook"
   ]
  },
  {
   "cell_type": "code",
   "execution_count": null,
   "metadata": {},
   "outputs": [],
   "source": [
    "!http   http://127.0.0.1:5000"
   ]
  },
  {
   "cell_type": "markdown",
   "metadata": {},
   "source": [
    "## Step 4 : List Tasks"
   ]
  },
  {
   "cell_type": "code",
   "execution_count": null,
   "metadata": {},
   "outputs": [],
   "source": [
    "!http   http://127.0.0.1:5000/tasks/"
   ]
  },
  {
   "cell_type": "code",
   "execution_count": null,
   "metadata": {},
   "outputs": [],
   "source": [
    "!http   http://127.0.0.1:5000/tasks/list"
   ]
  },
  {
   "cell_type": "markdown",
   "metadata": {},
   "source": [
    "## Step 5 : GET"
   ]
  },
  {
   "cell_type": "code",
   "execution_count": null,
   "metadata": {},
   "outputs": [],
   "source": [
    "!http   http://127.0.0.1:5000/task/1"
   ]
  },
  {
   "cell_type": "code",
   "execution_count": null,
   "metadata": {},
   "outputs": [],
   "source": [
    "## Get a task that doesn't exist\n",
    "!http   http://127.0.0.1:5000/task/100"
   ]
  },
  {
   "cell_type": "code",
   "execution_count": null,
   "metadata": {},
   "outputs": [],
   "source": [
    "## Get a task that doesn't exist\n",
    "!http   http://127.0.0.1:5000/task/xyz"
   ]
  },
  {
   "cell_type": "markdown",
   "metadata": {},
   "source": [
    "## Step 6 : POST"
   ]
  },
  {
   "cell_type": "code",
   "execution_count": null,
   "metadata": {},
   "outputs": [],
   "source": [
    "!http POST http://127.0.0.1:5000/task/new name='new task'"
   ]
  },
  {
   "cell_type": "markdown",
   "metadata": {},
   "source": [
    "## Step 7 : UPDATE (PUT / POST)"
   ]
  },
  {
   "cell_type": "code",
   "execution_count": null,
   "metadata": {},
   "outputs": [],
   "source": [
    "!http POST http://127.0.0.1:5000/task/update/1 time=10"
   ]
  },
  {
   "cell_type": "markdown",
   "metadata": {},
   "source": [
    "## Step 8 : DELETE"
   ]
  },
  {
   "cell_type": "code",
   "execution_count": null,
   "metadata": {},
   "outputs": [],
   "source": [
    "!http DELETE http://127.0.0.1:5000/task/delete/1"
   ]
  },
  {
   "cell_type": "code",
   "execution_count": null,
   "metadata": {},
   "outputs": [],
   "source": []
  }
 ],
 "metadata": {
  "kernelspec": {
   "display_name": "Python 3",
   "language": "python",
   "name": "python3"
  },
  "language_info": {
   "codemirror_mode": {
    "name": "ipython",
    "version": 3
   },
   "file_extension": ".py",
   "mimetype": "text/x-python",
   "name": "python",
   "nbconvert_exporter": "python",
   "pygments_lexer": "ipython3",
   "version": "3.6.4"
  }
 },
 "nbformat": 4,
 "nbformat_minor": 2
}
