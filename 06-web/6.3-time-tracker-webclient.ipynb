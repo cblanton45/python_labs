{
 "cells": [
  {
   "cell_type": "markdown",
   "metadata": {},
   "source": [
    "# Web - 3 : Calling Web Service from Python\n",
    "\n",
    "In this lab, we are going to use Python program to call webservice"
   ]
  },
  {
   "cell_type": "markdown",
   "metadata": {},
   "source": [
    "## Step 1 : Python program"
   ]
  },
  {
   "cell_type": "code",
   "execution_count": null,
   "metadata": {},
   "outputs": [],
   "source": [
    "import requests\n",
    "import pprint\n",
    "\n",
    "r = requests.get('http://127.0.0.1:5000/')\n",
    "print(\"status \", r.status_code)\n",
    "print()\n",
    "print(\"headers \\n\", pprint.pformat(r.headers, indent=4))\n",
    "print()\n",
    "print(\"content:\\n\", r.text)\n",
    "print()\n",
    "print(\"content as JSON:\\n\", r.json())\n",
    "print()"
   ]
  },
  {
   "cell_type": "markdown",
   "metadata": {},
   "source": [
    "## Step 2 : Task List"
   ]
  },
  {
   "cell_type": "code",
   "execution_count": null,
   "metadata": {},
   "outputs": [],
   "source": [
    "import requests\n",
    "import pprint\n",
    "\n",
    "r = requests.get('http://127.0.0.1:5000/tasks/list')\n",
    "print(\"status \", r.status_code)\n",
    "\n",
    "print(\"content as JSON:\\n\", r.json())\n",
    "print()"
   ]
  },
  {
   "cell_type": "markdown",
   "metadata": {},
   "source": [
    "## TODO\n",
    "Continue using other verbs.  \n",
    "Here is some sample to start off"
   ]
  },
  {
   "cell_type": "code",
   "execution_count": null,
   "metadata": {},
   "outputs": [],
   "source": [
    "import requests\n",
    "r = requests.get('http://127.0.0.1:5000/tasks/list')\n",
    "r = requests.put('http://127.0.0.1:5000/task/new', data = {'name':'a new task'})\n",
    "r = requests.put('http://127.0.0.1:5000/task/update/1', data = {'time':'10'})\n",
    "r = requests.delete('http://127.0.0.1:5000/task/delete/1')"
   ]
  }
 ],
 "metadata": {
  "kernelspec": {
   "display_name": "Python 3",
   "language": "python",
   "name": "python3"
  },
  "language_info": {
   "codemirror_mode": {
    "name": "ipython",
    "version": 3
   },
   "file_extension": ".py",
   "mimetype": "text/x-python",
   "name": "python",
   "nbconvert_exporter": "python",
   "pygments_lexer": "ipython3",
   "version": "3.6.4"
  }
 },
 "nbformat": 4,
 "nbformat_minor": 2
}
