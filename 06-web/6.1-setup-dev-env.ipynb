{
 "cells": [
  {
   "cell_type": "markdown",
   "metadata": {},
   "source": [
    "# Lab Web 1: Getting Development Environment Ready\n",
    "In this lab we are going to setup our dev environment to develop and test web services"
   ]
  },
  {
   "cell_type": "markdown",
   "metadata": {},
   "source": [
    "## Step 1 : Check Flask\n",
    "\n",
    "Flask should be installed in Anaconda.   \n",
    "Check by\n",
    "\n",
    "```bash\n",
    "   $   python\n",
    "   > import flask\n",
    "```\n",
    "\n",
    "If not you can install as follows:\n",
    "\n",
    "**Option 1 : Anaconda environment**\n",
    "```bash\n",
    "    $   conda install flash\n",
    "```\n",
    "\n",
    "**Option 2: python env**\n",
    "```bash\n",
    "    $ pip install flask\n",
    "```\n",
    "\n",
    "  "
   ]
  },
  {
   "cell_type": "markdown",
   "metadata": {},
   "source": [
    "## Step 2 : Run basic Flask server\n",
    "Execute the following file\n",
    "```bash\n",
    "    $ cd data-analytics-python-labs\n",
    "\n",
    "    $ cd web\n",
    "\n",
    "    $ python ./simple-web-server.py\n",
    "\n",
    "      > * Running on http://127.0.0.1:5000/ (Press CTRL+C to quit)\n",
    "      > * Restarting with stat\n",
    "      > * Debugger is active!\n",
    "      > * Debugger PIN: 257-977-014\n",
    "```"
   ]
  },
  {
   "cell_type": "markdown",
   "metadata": {},
   "source": [
    "## Step 3 : Testing Web Server / Service\n",
    "For this we are going to use various methods to test the web server."
   ]
  },
  {
   "cell_type": "markdown",
   "metadata": {},
   "source": [
    "### 3.1 - Browser (Simplest)\n",
    "In a browser go to http://127.0.0.1:5000/   \n",
    "You should see 'hello world' response."
   ]
  },
  {
   "cell_type": "markdown",
   "metadata": {},
   "source": [
    "### 3.2 - Command Line\n",
    "This works best on Linux / Mac environments where we have good toolset installed."
   ]
  },
  {
   "cell_type": "markdown",
   "metadata": {},
   "source": [
    "#### Curl\n",
    "Curl is old-school.\n",
    "\n",
    "```bash\n",
    "    $  curl http://127.0.0.1:5000/\n",
    "```"
   ]
  },
  {
   "cell_type": "markdown",
   "metadata": {},
   "source": [
    "#### httpie\n",
    "This is more modern version.  \n",
    "https://github.com/jakubroztocil/httpie\n",
    "\n",
    "\n",
    "```bash\n",
    "     $  pip install httpie\n",
    "```\n",
    "\n",
    "**Usage**\n",
    "\n",
    "```bash\n",
    "   $ http http://127.0.0.1:5000/\n",
    "        HTTP/1.0 200 OK\n",
    "        Content-Length: 13\n",
    "        Content-Type: text/html; charset=utf-8\n",
    "        Date: Wed, 18 Apr 2018 18:29:49 GMT\n",
    "        Server: Werkzeug/0.14.1 Python/3.6.4\n",
    "\n",
    "        Hello, World!\n",
    "```\n"
   ]
  },
  {
   "cell_type": "markdown",
   "metadata": {},
   "source": [
    "### 3.3 - Rest Clients \n",
    "These browser extensions are really great to test web services very easily.  \n",
    "You can try the following chrome extensions\n",
    "- [Advanced Rest Client](https://chrome.google.com/webstore/detail/advanced-rest-client/hgmloofddffdnphfgcellkdfbfbjeloo/related?hl=en-US)\n",
    "- [Postman](https://chrome.google.com/webstore/detail/postman/fhbjgbiflinjbdggehcddcbncdddomop?hl=en)\n",
    "- [Rest client](https://chrome.google.com/webstore/detail/restlet-client-rest-api-t/aejoelaoggembcahagimdiliamlcdmfm/related?hl=en)\n",
    "\n",
    "Go ahead and install one of the clients and try to go to the URL.  \n",
    "http://127.0.0.1:5000/"
   ]
  },
  {
   "cell_type": "markdown",
   "metadata": {},
   "source": [
    "### 3.4 : Python program\n",
    "And finally we need to be able to test our webservice from Python.\n",
    "\n",
    "\n",
    "\n",
    "\n"
   ]
  },
  {
   "cell_type": "markdown",
   "metadata": {},
   "source": [
    "#### Option 1 : Requests library\n",
    "http://docs.python-requests.org/en/latest/\n"
   ]
  },
  {
   "cell_type": "code",
   "execution_count": null,
   "metadata": {},
   "outputs": [],
   "source": [
    "import requests\n",
    "import pprint\n",
    "\n",
    "r = requests.get('http://127.0.0.1:5000/')\n",
    "print(\"status \", r.status_code)\n",
    "print()\n",
    "print(\"headers \\n\", pprint.pformat(r.headers, indent=4))\n",
    "print()\n",
    "print(\"content:\\n\", r.text)\n",
    "print()\n",
    "print(\"content as JSON:\\n\", r.json())\n",
    "print()"
   ]
  },
  {
   "cell_type": "markdown",
   "metadata": {},
   "source": [
    "#### Option 2 : httplib2 library\n",
    "https://github.com/httplib2/httplib2\n",
    " \n",
    "Install it as \n",
    "\n",
    "```bash\n",
    "   $ pip install httplib2\n",
    "```\n",
    "\n",
    "And try the following python code.  \n",
    "Then try going to google.com  to see the response. "
   ]
  },
  {
   "cell_type": "code",
   "execution_count": null,
   "metadata": {},
   "outputs": [],
   "source": [
    "import httplib2\n",
    "from pprint import pprint\n",
    "\n",
    "h = httplib2.Http('.cache')\n",
    "response, content = h.request('http://127.0.0.1:5000/')\n",
    "#response, content = h.request('http://www.google.com/')\n",
    "print(\"-----headers----\")\n",
    "pprint(response)\n",
    "print('-----content----')\n",
    "pprint(content)"
   ]
  },
  {
   "cell_type": "markdown",
   "metadata": {},
   "source": [
    "## Next\n",
    "Now that we have our development environmnet setup, we are going to build our webservice.\n",
    "\n",
    "Proceed to  [web-2-time-tracker-webservice](web-2-time-tracker-webservice.ipynb)"
   ]
  }
 ],
 "metadata": {
  "kernelspec": {
   "display_name": "Python 3",
   "language": "python",
   "name": "python3"
  },
  "language_info": {
   "codemirror_mode": {
    "name": "ipython",
    "version": 3
   },
   "file_extension": ".py",
   "mimetype": "text/x-python",
   "name": "python",
   "nbconvert_exporter": "python",
   "pygments_lexer": "ipython3",
   "version": "3.6.4"
  }
 },
 "nbformat": 4,
 "nbformat_minor": 2
}
