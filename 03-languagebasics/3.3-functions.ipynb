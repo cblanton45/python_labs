{
 "cells": [
  {
   "cell_type": "markdown",
   "metadata": {},
   "source": [
    "# Functions\n",
    "\n",
    "Python allows us to create functions. We are going to see how to do that."
   ]
  },
  {
   "cell_type": "code",
   "execution_count": null,
   "metadata": {},
   "outputs": [],
   "source": [
    "def printme(whattoprint):\n",
    "    print(whattoprint)\n",
    "    return;\n",
    "\n",
    "printme(\"hello\")  # should print \"hello\"\n",
    "\n",
    "def mymax(first, second):\n",
    "    if (first > second):\n",
    "        return first\n",
    "    return second;\n",
    "\n",
    "printme(mymax(1,2))  # should print \"2\""
   ]
  },
  {
   "cell_type": "markdown",
   "metadata": {},
   "source": [
    "### Lambda Functions\n",
    "\n",
    "Lambda functions are anonymous functions, short one-liners that we pass as arguments without "
   ]
  },
  {
   "cell_type": "code",
   "execution_count": null,
   "metadata": {},
   "outputs": [],
   "source": [
    "names = [(1, 'Mary'), (2, 'Bob'), (3, 'Zahra'), (4, 'Lu')]\n",
    "names.sort(key = lambda name: name[1])\n",
    "names"
   ]
  },
  {
   "cell_type": "code",
   "execution_count": null,
   "metadata": {
    "collapsed": true
   },
   "outputs": [],
   "source": [
    "# Now it's your turn.  Try to experiment by creating a function yourself,\n",
    "# and then calling it.\n",
    "\n",
    "\n",
    "\n"
   ]
  }
 ],
 "metadata": {
  "kernelspec": {
   "display_name": "Python 3",
   "language": "python",
   "name": "python3"
  },
  "language_info": {
   "codemirror_mode": {
    "name": "ipython",
    "version": 3
   },
   "file_extension": ".py",
   "mimetype": "text/x-python",
   "name": "python",
   "nbconvert_exporter": "python",
   "pygments_lexer": "ipython3",
   "version": "3.5.4"
  }
 },
 "nbformat": 4,
 "nbformat_minor": 1
}
