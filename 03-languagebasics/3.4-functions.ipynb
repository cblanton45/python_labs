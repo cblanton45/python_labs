{
 "cells": [
  {
   "cell_type": "markdown",
   "metadata": {},
   "source": [
    "# Lab 3.4: Functions\n",
    "\n",
    "Python allows us to create functions. We are going to see how to do that."
   ]
  },
  {
   "cell_type": "code",
   "execution_count": null,
   "metadata": {
    "collapsed": true
   },
   "outputs": [],
   "source": [
    "def printme(whattoprint):\n",
    "    print(whattoprint)\n",
    "    return;\n",
    "\n",
    "printme(\"hello\")  # should print \"hello\"\n",
    "\n",
    "def mymax(first, second):\n",
    "    if (first > second):\n",
    "        return first\n",
    "    return second;\n",
    "\n",
    "printme(mymax(1,2))  # should print \"2\""
   ]
  },
  {
   "cell_type": "markdown",
   "metadata": {},
   "source": [
    "### Lambda Functions\n",
    "\n",
    "Lambda functions are anonymous functions, short one-liners that we pass as arguments without "
   ]
  },
  {
   "cell_type": "code",
   "execution_count": null,
   "metadata": {
    "collapsed": true
   },
   "outputs": [],
   "source": [
    "names = [(1, 'Mary'), (2, 'Bob'), (3, 'Zahra'), (4, 'Lu')]\n",
    "names.sort(key = lambda name: name[1])\n",
    "names"
   ]
  },
  {
   "cell_type": "code",
   "execution_count": null,
   "metadata": {
    "collapsed": true
   },
   "outputs": [],
   "source": [
    "# Now it's your turn.  Try to experiment by creating a function yourself,\n",
    "# and then calling it.\n",
    "\n",
    "\n",
    "\n"
   ]
  },
  {
   "cell_type": "code",
   "execution_count": null,
   "metadata": {},
   "outputs": [],
   "source": [
    "# Don't worry about how this works\n",
    "\n",
    "number_to_test_is_prime = 5\n",
    "\n",
    "import sympy\n",
    "sympy.isprime(number_to_test_is_prime)"
   ]
  },
  {
   "cell_type": "code",
   "execution_count": null,
   "metadata": {
    "collapsed": true
   },
   "outputs": [],
   "source": [
    "# Now let's define a function\n",
    "\n",
    "def my_next_prime(n):\n",
    "    # TODO: How to do this?\n",
    "    # It's not cheating to use sympy.isprime()\n",
    "    # HINT: you could use a while loop?\n",
    "    return n+1"
   ]
  },
  {
   "cell_type": "code",
   "execution_count": null,
   "metadata": {},
   "outputs": [],
   "source": [
    "# TODO: Now test your my_next_prime function\n",
    "\n",
    "# make sure you get the same resulst as this one:\n",
    "sympy.ntheory.generate.nextprime(5)"
   ]
  },
  {
   "cell_type": "markdown",
   "metadata": {},
   "source": [
    "## Map Functions\n",
    "\n",
    "Let's try to use our my_next_prime \n",
    "\n",
    "We will use the map function"
   ]
  },
  {
   "cell_type": "code",
   "execution_count": null,
   "metadata": {},
   "outputs": [],
   "source": [
    "f = list(map(lambda x : x * x, [1,2,3]))  # Squares"
   ]
  },
  {
   "cell_type": "code",
   "execution_count": null,
   "metadata": {},
   "outputs": [],
   "source": [
    "# TODO: How would we find the next prime number for each of the followings\n",
    "\n",
    "nums = [3, 10, 13, 16, 19, 23, 34]"
   ]
  },
  {
   "cell_type": "code",
   "execution_count": null,
   "metadata": {
    "collapsed": true
   },
   "outputs": [],
   "source": []
  }
 ],
 "metadata": {
  "kernelspec": {
   "display_name": "Python 3",
   "language": "python",
   "name": "python3"
  },
  "language_info": {
   "codemirror_mode": {
    "name": "ipython",
    "version": 3
   },
   "file_extension": ".py",
   "mimetype": "text/x-python",
   "name": "python",
   "nbconvert_exporter": "python",
   "pygments_lexer": "ipython3",
   "version": "3.5.4"
  }
 },
 "nbformat": 4,
 "nbformat_minor": 1
}
