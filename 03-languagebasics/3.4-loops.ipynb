{
 "cells": [
  {
   "cell_type": "markdown",
   "metadata": {},
   "source": [
    "# Lab 3.2: Python Loops"
   ]
  },
  {
   "cell_type": "markdown",
   "metadata": {},
   "source": [
    "\n",
    "### Introduction\n",
    "\n",
    "We are going to discuss loops\n",
    "\n",
    "\n",
    "### For Loop:\n",
    "\n",
    "```python\n",
    "for i in range(20):\n",
    "    print(i)\n",
    "```\n",
    "\n",
    "### While Loop\n",
    "```python\n",
    "guess = 20\n",
    "i = 0\n",
    "while i < guess:\n",
    "    print('i is still less')\n",
    "print('Got it! ' + str(i))\n",
    "```"
   ]
  },
  {
   "cell_type": "code",
   "execution_count": null,
   "metadata": {},
   "outputs": [],
   "source": [
    "## TODO:  Write a for loop that counts up from zero to 19\n"
   ]
  },
  {
   "cell_type": "markdown",
   "metadata": {},
   "source": [
    "Now let's determine whether the number is odd or even. \n",
    "\n",
    "Here's how we can determine if a number is odd or even\n",
    "\n",
    "```python\n",
    "number % 2 == 0 # event\n",
    "number % 2 == 1 # odd\n",
    "```"
   ]
  },
  {
   "cell_type": "code",
   "execution_count": null,
   "metadata": {
    "collapsed": true
   },
   "outputs": [],
   "source": [
    "##  TODO: Do the same loop, but print the number and the word \"even\" \n",
    "##  or \"odd\"\n",
    "\n"
   ]
  },
  {
   "cell_type": "markdown",
   "metadata": {},
   "source": [
    "How would you write a block of code that does the following:\n",
    "\n",
    "1. Prints \"x\" if x is the largest value\n",
    "2. Prints \"y\" if y is the largest value\n",
    "3. prints \"z\" if z is the largest value"
   ]
  },
  {
   "cell_type": "code",
   "execution_count": null,
   "metadata": {
    "collapsed": true
   },
   "outputs": [],
   "source": [
    "# TODO Find maximum value\n",
    "\n"
   ]
  },
  {
   "cell_type": "markdown",
   "metadata": {},
   "source": [
    "### While loops\n",
    "\n",
    "number = raw_input(\"Guess a number\")"
   ]
  },
  {
   "cell_type": "code",
   "execution_count": null,
   "metadata": {
    "collapsed": true
   },
   "outputs": [],
   "source": [
    "import random\n",
    "n = 20\n",
    "magic_number = int(n * random.random()) + 1\n",
    "user_guess = 0"
   ]
  },
  {
   "cell_type": "code",
   "execution_count": null,
   "metadata": {
    "collapsed": true
   },
   "outputs": [],
   "source": []
  },
  {
   "cell_type": "code",
   "execution_count": 7,
   "metadata": {},
   "outputs": [
    {
     "name": "stdout",
     "output_type": "stream",
     "text": [
      "New number: 5\n",
      "Number too small\n",
      "New number: 6\n",
      "Number too small\n",
      "New number: 8\n",
      "Number too small\n",
      "New number: 10\n",
      "Number too small\n",
      "New number: 12\n",
      "Number too small\n",
      "New number: 14\n",
      "Number too small\n",
      "New number: 16\n",
      "Congratulation. You made it!\n"
     ]
    }
   ],
   "source": []
  },
  {
   "cell_type": "code",
   "execution_count": 6,
   "metadata": {},
   "outputs": [
    {
     "name": "stdout",
     "output_type": "stream",
     "text": [
      "Guess a number: 1\n"
     ]
    }
   ],
   "source": [
    "number = input(\"Guess a number: \")\n"
   ]
  },
  {
   "cell_type": "code",
   "execution_count": null,
   "metadata": {
    "collapsed": true
   },
   "outputs": [],
   "source": [
    "correct_password = \"spam\"\n",
    "password = \"ham\"\n",
    "\n",
    "## TODO: how would we print \"Correct\" if password is correct,\n",
    "## and incorrect otherwise."
   ]
  }
 ],
 "metadata": {
  "kernelspec": {
   "display_name": "Python 3",
   "language": "python",
   "name": "python3"
  },
  "language_info": {
   "codemirror_mode": {
    "name": "ipython",
    "version": 3
   },
   "file_extension": ".py",
   "mimetype": "text/x-python",
   "name": "python",
   "nbconvert_exporter": "python",
   "pygments_lexer": "ipython3",
   "version": "3.5.4"
  }
 },
 "nbformat": 4,
 "nbformat_minor": 1
}
