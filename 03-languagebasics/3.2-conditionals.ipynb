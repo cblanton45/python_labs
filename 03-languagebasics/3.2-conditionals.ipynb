{
 "cells": [
  {
   "cell_type": "markdown",
   "metadata": {},
   "source": [
    "# Lab 3.2: Python Conditionals"
   ]
  },
  {
   "cell_type": "markdown",
   "metadata": {},
   "source": [
    "\n",
    "### Introduction\n",
    "\n",
    "Python is unlike other languages in that it has blocks delimited by indentation / whitespace rather than curly braces.  \n",
    "\n",
    "```python\n",
    "if a < 1:\n",
    "    print(\"less than one)\n",
    "elif a >= 1 and a < 2:\n",
    "    print(\"between one and two)\n",
    "else:\n",
    "    print(\"greater than 2\")\n",
    "```"
   ]
  },
  {
   "cell_type": "code",
   "execution_count": null,
   "metadata": {
    "collapsed": true
   },
   "outputs": [],
   "source": [
    "# Let's define some values.\n",
    "\n",
    "x = 2\n",
    "y = 3\n",
    "z = 4"
   ]
  },
  {
   "cell_type": "markdown",
   "metadata": {},
   "source": [
    "How would you write a block of code that does the following:\n",
    "\n",
    "1. Prints \"x\" if x is the largest value\n",
    "2. Prints \"y\" if y is the largest value\n",
    "3. prints \"z\" if z is the largest value"
   ]
  },
  {
   "cell_type": "code",
   "execution_count": null,
   "metadata": {
    "collapsed": true
   },
   "outputs": [],
   "source": [
    "# TODO Find maximum value\n",
    "\n"
   ]
  },
  {
   "cell_type": "markdown",
   "metadata": {},
   "source": [
    "### One liners\n",
    "\n",
    "Python doesn't have Java's ternary conditional operator\n",
    "\n",
    "```java\n",
    "max = (a > b) ? a : b; // This is java\n",
    "```\n",
    "\n",
    "What it does have a bit more readable.\n",
    "\n",
    "```python\n",
    "max = a if (a > b) else b # Python\n",
    "```\n",
    "\n"
   ]
  },
  {
   "cell_type": "code",
   "execution_count": null,
   "metadata": {
    "collapsed": true
   },
   "outputs": [],
   "source": [
    "correct_password = \"spam\"\n",
    "password = \"ham\"\n",
    "\n",
    "## TODO: how would we print \"Correct\" if password is correct,\n",
    "## and incorrect otherwise."
   ]
  }
 ],
 "metadata": {
  "kernelspec": {
   "display_name": "Python 3",
   "language": "python",
   "name": "python3"
  },
  "language_info": {
   "codemirror_mode": {
    "name": "ipython",
    "version": 3
   },
   "file_extension": ".py",
   "mimetype": "text/x-python",
   "name": "python",
   "nbconvert_exporter": "python",
   "pygments_lexer": "ipython3",
   "version": "3.5.4"
  }
 },
 "nbformat": 4,
 "nbformat_minor": 1
}
